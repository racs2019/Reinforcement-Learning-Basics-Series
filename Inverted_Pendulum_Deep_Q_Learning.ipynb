{
  "cells": [
    {
      "cell_type": "markdown",
      "metadata": {
        "id": "YQerFJPCzvOI"
      },
      "source": [
        "#Inverted Pendulum Deep Q Learning Simulation\n",
        "\n",
        "\n",
        "\n",
        "---\n",
        "\n",
        "\n",
        "\n",
        "This notebook serves as the codebase for my Reinforcement Learning Approach to Cartpole Research Project. The following code is based on the DQN implementation by [Mike Wang](https://towardsdatascience.com/deep-q-learning-tutorial-mindqn-2a4c855abffc), and is adapted and experimented to understand the process of deep q learning. Although much of the architecture and hyperparameters are maintained from the original implementation, graphs, renderings, and re-structuring is applied to visualize and understand the DQN process."
      ]
    },
    {
      "cell_type": "markdown",
      "metadata": {
        "id": "3DasDiNa0TaU"
      },
      "source": [
        "**Dependencies and environment setup**"
      ]
    },
    {
      "cell_type": "code",
      "execution_count": null,
      "metadata": {
        "colab": {
          "base_uri": "https://localhost:8080/"
        },
        "id": "Zh71Q_GrU5ZN",
        "outputId": "6fefbf33-abfb-4b24-a697-cbc68e8a2f22"
      },
      "outputs": [
        {
          "output_type": "stream",
          "name": "stdout",
          "text": [
            "Action Space: Discrete(2)\n",
            "State space: Box([-4.8000002e+00 -3.4028235e+38 -4.1887903e-01 -3.4028235e+38], [4.8000002e+00 3.4028235e+38 4.1887903e-01 3.4028235e+38], (4,), float32)\n"
          ]
        }
      ],
      "source": [
        "#Dependencies for DQN\n",
        "import gym\n",
        "import tensorflow as tf\n",
        "import numpy as np\n",
        "from tensorflow import keras\n",
        "import matplotlib.pyplot as plt\n",
        "from collections import deque\n",
        "import time\n",
        "import random\n",
        "\n",
        "#Create environment and set random seed\n",
        "env = gym.make('CartPole-v1')\n",
        "env.seed(5)\n",
        "np.random.seed(5)\n",
        "tf.random.set_seed(5)\n",
        "\n",
        "#Display the range of the action and observation space\n",
        "print(\"Action Space: {}\".format(env.action_space))\n",
        "print(\"State space: {}\".format(env.observation_space))"
      ]
    },
    {
      "cell_type": "markdown",
      "metadata": {
        "id": "XIviC0hN0Wdt"
      },
      "source": [
        "**Function to set up neural network architecture**"
      ]
    },
    {
      "cell_type": "code",
      "execution_count": null,
      "metadata": {
        "id": "311uZzzzU-B_"
      },
      "outputs": [],
      "source": [
        "#Create and compile 4x24x12x2 model architecture\n",
        "def DQN(state_shape, action_shape):\n",
        "  init = tf.keras.initializers.HeUniform()\n",
        "  model = keras.Sequential()\n",
        "  model.add(keras.layers.Dense(24, input_shape=state_shape, activation='relu', kernel_initializer=init))\n",
        "  model.add(keras.layers.Dense(12, activation='relu', kernel_initializer=init))\n",
        "  model.add(keras.layers.Dense(action_shape, activation='linear', kernel_initializer=init))\n",
        "  model.compile(loss=tf.keras.losses.Huber(), optimizer=tf.keras.optimizers.Adam(lr=0.001), metrics=['accuracy'])\n",
        "  return model"
      ]
    },
    {
      "cell_type": "markdown",
      "metadata": {
        "id": "CP-U9Hih0cON"
      },
      "source": [
        "**Training loop function**"
      ]
    },
    {
      "cell_type": "code",
      "execution_count": null,
      "metadata": {
        "id": "XOwQ03GBVFD7"
      },
      "outputs": [],
      "source": [
        "#Main training loop\n",
        "def train(env, replay_memory, model, target_model, done):\n",
        "    #Training hyperparameters\n",
        "    learning_rate = 0.7\n",
        "    discount_factor = 0.6\n",
        "    batch_size = 128\n",
        "\n",
        "    #Create and process minibatch for training\n",
        "    mini_batch = random.sample(replay_memory, batch_size)\n",
        "    current_states = np.array([i[0] for i in mini_batch])\n",
        "    new_current_states = np.array([j[3] for j in mini_batch])\n",
        "    current_qs_list = model.predict(current_states, verbose=None)\n",
        "    future_qs_list = target_model.predict(new_current_states, verbose=None)\n",
        "\n",
        "    #variables to hold tranining data/lables\n",
        "    x = []\n",
        "    y = []\n",
        "\n",
        "    #calculate updated q-value for each state using bellman equation to use as a target\n",
        "    for index, (observation, action, reward, new_observation, done) in enumerate(mini_batch):\n",
        "        #Find max return of state\n",
        "        if not done:\n",
        "            max_future_q = reward + discount_factor * np.max(future_qs_list[index])\n",
        "        else:\n",
        "            max_future_q = reward\n",
        "\n",
        "        #bellman equation update\n",
        "        current_qs = current_qs_list[index]\n",
        "        current_qs[action] = (1 - learning_rate) * current_qs[action] + learning_rate * max_future_q\n",
        "\n",
        "        #add data to training set\n",
        "        x.append(observation)\n",
        "        y.append(current_qs)\n",
        "\n",
        "    #train the model using current q values and lables from target network and bellman eq.\n",
        "    model.fit(np.array(x), np.array(y), batch_size=batch_size, verbose=0, shuffle=True)"
      ]
    },
    {
      "cell_type": "markdown",
      "metadata": {
        "id": "AM9iPNOo0eqp"
      },
      "source": [
        "**Main deep q learning iteration loop with e-greedy and replay buffer**"
      ]
    },
    {
      "cell_type": "code",
      "execution_count": null,
      "metadata": {
        "colab": {
          "base_uri": "https://localhost:8080/"
        },
        "id": "8rkcNS9tVJoM",
        "outputId": "3dab2416-2bfa-4401-ec3f-4173be2bff64"
      },
      "outputs": [
        {
          "output_type": "stream",
          "name": "stderr",
          "text": [
            "WARNING:absl:`lr` is deprecated in Keras optimizer, please use `learning_rate` or use the legacy optimizer, e.g.,tf.keras.optimizers.legacy.Adam.\n",
            "WARNING:absl:`lr` is deprecated in Keras optimizer, please use `learning_rate` or use the legacy optimizer, e.g.,tf.keras.optimizers.legacy.Adam.\n"
          ]
        },
        {
          "output_type": "stream",
          "name": "stdout",
          "text": [
            "Total training rewards: 18.0 for episode = 0\n",
            "Total training rewards: 18.0 for episode = 1\n",
            "Total training rewards: 19.0 for episode = 2\n",
            "Total training rewards: 23.0 for episode = 3\n",
            "Total training rewards: 49.0 for episode = 4\n",
            "Copying main network weights to the target network weights\n",
            "Total training rewards: 39.0 for episode = 5\n",
            "Total training rewards: 59.0 for episode = 6\n",
            "Total training rewards: 33.0 for episode = 7\n",
            "Copying main network weights to the target network weights\n",
            "Total training rewards: 24.0 for episode = 8\n",
            "Total training rewards: 13.0 for episode = 9\n",
            "Total training rewards: 27.0 for episode = 10\n",
            "Total training rewards: 53.0 for episode = 11\n",
            "Copying main network weights to the target network weights\n",
            "Total training rewards: 42.0 for episode = 12\n",
            "Total training rewards: 49.0 for episode = 13\n",
            "Total training rewards: 14.0 for episode = 14\n",
            "Copying main network weights to the target network weights\n",
            "Total training rewards: 14.0 for episode = 15\n",
            "Total training rewards: 17.0 for episode = 16\n",
            "Total training rewards: 22.0 for episode = 17\n",
            "Total training rewards: 19.0 for episode = 18\n",
            "Total training rewards: 15.0 for episode = 19\n",
            "Total training rewards: 29.0 for episode = 20\n",
            "Copying main network weights to the target network weights\n",
            "Total training rewards: 24.0 for episode = 21\n",
            "Total training rewards: 62.0 for episode = 22\n",
            "Total training rewards: 14.0 for episode = 23\n",
            "Copying main network weights to the target network weights\n",
            "Total training rewards: 36.0 for episode = 24\n",
            "Total training rewards: 28.0 for episode = 25\n",
            "Total training rewards: 18.0 for episode = 26\n",
            "Total training rewards: 51.0 for episode = 27\n",
            "Copying main network weights to the target network weights\n",
            "Total training rewards: 62.0 for episode = 28\n",
            "Total training rewards: 41.0 for episode = 29\n",
            "Copying main network weights to the target network weights\n",
            "Total training rewards: 90.0 for episode = 30\n",
            "Total training rewards: 15.0 for episode = 31\n",
            "Copying main network weights to the target network weights\n",
            "Total training rewards: 11.0 for episode = 32\n",
            "Total training rewards: 21.0 for episode = 33\n",
            "Total training rewards: 29.0 for episode = 34\n",
            "Total training rewards: 21.0 for episode = 35\n",
            "Total training rewards: 97.0 for episode = 36\n",
            "Copying main network weights to the target network weights\n",
            "Total training rewards: 100.0 for episode = 37\n",
            "Copying main network weights to the target network weights\n",
            "Total training rewards: 24.0 for episode = 38\n",
            "Total training rewards: 23.0 for episode = 39\n",
            "Total training rewards: 23.0 for episode = 40\n",
            "Total training rewards: 11.0 for episode = 41\n",
            "Total training rewards: 10.0 for episode = 42\n",
            "Total training rewards: 18.0 for episode = 43\n",
            "Copying main network weights to the target network weights\n",
            "Total training rewards: 9.0 for episode = 44\n",
            "Total training rewards: 12.0 for episode = 45\n",
            "Total training rewards: 11.0 for episode = 46\n",
            "Total training rewards: 22.0 for episode = 47\n",
            "Total training rewards: 13.0 for episode = 48\n",
            "Total training rewards: 12.0 for episode = 49\n",
            "Total training rewards: 10.0 for episode = 50\n",
            "Total training rewards: 14.0 for episode = 51\n",
            "Copying main network weights to the target network weights\n",
            "Total training rewards: 18.0 for episode = 52\n",
            "Total training rewards: 11.0 for episode = 53\n",
            "Total training rewards: 9.0 for episode = 54\n",
            "Total training rewards: 10.0 for episode = 55\n",
            "Total training rewards: 8.0 for episode = 56\n",
            "Total training rewards: 12.0 for episode = 57\n",
            "Total training rewards: 10.0 for episode = 58\n",
            "Total training rewards: 10.0 for episode = 59\n",
            "Total training rewards: 12.0 for episode = 60\n",
            "Copying main network weights to the target network weights\n",
            "Total training rewards: 13.0 for episode = 61\n",
            "Total training rewards: 13.0 for episode = 62\n",
            "Total training rewards: 24.0 for episode = 63\n",
            "Total training rewards: 10.0 for episode = 64\n",
            "Total training rewards: 11.0 for episode = 65\n",
            "Total training rewards: 11.0 for episode = 66\n",
            "Total training rewards: 14.0 for episode = 67\n",
            "Total training rewards: 10.0 for episode = 68\n",
            "Copying main network weights to the target network weights\n",
            "Total training rewards: 11.0 for episode = 69\n",
            "Total training rewards: 11.0 for episode = 70\n",
            "Total training rewards: 9.0 for episode = 71\n",
            "Total training rewards: 9.0 for episode = 72\n",
            "Total training rewards: 10.0 for episode = 73\n",
            "Total training rewards: 11.0 for episode = 74\n",
            "Total training rewards: 14.0 for episode = 75\n",
            "Total training rewards: 9.0 for episode = 76\n",
            "Total training rewards: 10.0 for episode = 77\n",
            "Total training rewards: 13.0 for episode = 78\n",
            "Copying main network weights to the target network weights\n",
            "Total training rewards: 10.0 for episode = 79\n",
            "Total training rewards: 15.0 for episode = 80\n",
            "Total training rewards: 13.0 for episode = 81\n",
            "Total training rewards: 13.0 for episode = 82\n",
            "Total training rewards: 10.0 for episode = 83\n",
            "Total training rewards: 16.0 for episode = 84\n",
            "Total training rewards: 12.0 for episode = 85\n",
            "Total training rewards: 14.0 for episode = 86\n",
            "Copying main network weights to the target network weights\n",
            "Total training rewards: 16.0 for episode = 87\n",
            "Total training rewards: 13.0 for episode = 88\n",
            "Total training rewards: 17.0 for episode = 89\n",
            "Total training rewards: 13.0 for episode = 90\n",
            "Total training rewards: 12.0 for episode = 91\n",
            "Total training rewards: 28.0 for episode = 92\n",
            "Total training rewards: 13.0 for episode = 93\n",
            "Copying main network weights to the target network weights\n",
            "Total training rewards: 9.0 for episode = 94\n",
            "Total training rewards: 15.0 for episode = 95\n",
            "Total training rewards: 48.0 for episode = 96\n",
            "Total training rewards: 18.0 for episode = 97\n",
            "Total training rewards: 12.0 for episode = 98\n",
            "Copying main network weights to the target network weights\n",
            "Total training rewards: 30.0 for episode = 99\n",
            "Total training rewards: 12.0 for episode = 100\n",
            "Total training rewards: 16.0 for episode = 101\n",
            "Total training rewards: 12.0 for episode = 102\n",
            "Total training rewards: 16.0 for episode = 103\n",
            "Total training rewards: 54.0 for episode = 104\n",
            "Copying main network weights to the target network weights\n",
            "Total training rewards: 10.0 for episode = 105\n",
            "Total training rewards: 10.0 for episode = 106\n",
            "Total training rewards: 10.0 for episode = 107\n",
            "Total training rewards: 13.0 for episode = 108\n",
            "Total training rewards: 18.0 for episode = 109\n",
            "Total training rewards: 14.0 for episode = 110\n",
            "Total training rewards: 47.0 for episode = 111\n",
            "Copying main network weights to the target network weights\n",
            "Total training rewards: 12.0 for episode = 112\n",
            "Total training rewards: 11.0 for episode = 113\n",
            "Total training rewards: 25.0 for episode = 114\n",
            "Total training rewards: 23.0 for episode = 115\n",
            "Total training rewards: 30.0 for episode = 116\n",
            "Copying main network weights to the target network weights\n",
            "Total training rewards: 18.0 for episode = 117\n",
            "Total training rewards: 27.0 for episode = 118\n",
            "Total training rewards: 10.0 for episode = 119\n",
            "Total training rewards: 73.0 for episode = 120\n",
            "Copying main network weights to the target network weights\n",
            "Total training rewards: 45.0 for episode = 121\n",
            "Total training rewards: 12.0 for episode = 122\n",
            "Total training rewards: 19.0 for episode = 123\n",
            "Total training rewards: 177.0 for episode = 124\n",
            "Copying main network weights to the target network weights\n",
            "Total training rewards: 34.0 for episode = 125\n",
            "Total training rewards: 28.0 for episode = 126\n",
            "Total training rewards: 89.0 for episode = 127\n",
            "Copying main network weights to the target network weights\n",
            "Total training rewards: 147.0 for episode = 128\n",
            "Copying main network weights to the target network weights\n",
            "Total training rewards: 8.0 for episode = 129\n",
            "Total training rewards: 65.0 for episode = 130\n",
            "Total training rewards: 75.0 for episode = 131\n",
            "Copying main network weights to the target network weights\n",
            "Total training rewards: 9.0 for episode = 132\n",
            "Total training rewards: 22.0 for episode = 133\n",
            "Total training rewards: 132.0 for episode = 134\n",
            "Copying main network weights to the target network weights\n",
            "Total training rewards: 145.0 for episode = 135\n",
            "Copying main network weights to the target network weights\n",
            "Total training rewards: 29.0 for episode = 136\n",
            "Total training rewards: 172.0 for episode = 137\n",
            "Copying main network weights to the target network weights\n",
            "Total training rewards: 28.0 for episode = 138\n",
            "Total training rewards: 61.0 for episode = 139\n",
            "Total training rewards: 58.0 for episode = 140\n",
            "Copying main network weights to the target network weights\n",
            "Total training rewards: 70.0 for episode = 141\n",
            "Total training rewards: 88.0 for episode = 142\n",
            "Copying main network weights to the target network weights\n",
            "Total training rewards: 104.0 for episode = 143\n",
            "Copying main network weights to the target network weights\n",
            "Total training rewards: 19.0 for episode = 144\n",
            "Total training rewards: 42.0 for episode = 145\n",
            "Total training rewards: 40.0 for episode = 146\n",
            "Copying main network weights to the target network weights\n",
            "Total training rewards: 87.0 for episode = 147\n",
            "Total training rewards: 52.0 for episode = 148\n",
            "Copying main network weights to the target network weights\n",
            "Total training rewards: 76.0 for episode = 149\n",
            "Total training rewards: 37.0 for episode = 150\n",
            "Copying main network weights to the target network weights\n",
            "Total training rewards: 93.0 for episode = 151\n",
            "Total training rewards: 94.0 for episode = 152\n",
            "Copying main network weights to the target network weights\n",
            "Total training rewards: 89.0 for episode = 153\n",
            "Total training rewards: 37.0 for episode = 154\n",
            "Copying main network weights to the target network weights\n",
            "Total training rewards: 91.0 for episode = 155\n",
            "Total training rewards: 94.0 for episode = 156\n",
            "Copying main network weights to the target network weights\n",
            "Total training rewards: 81.0 for episode = 157\n",
            "Total training rewards: 101.0 for episode = 158\n",
            "Copying main network weights to the target network weights\n",
            "Total training rewards: 174.0 for episode = 159\n",
            "Copying main network weights to the target network weights\n",
            "Total training rewards: 29.0 for episode = 160\n",
            "Total training rewards: 25.0 for episode = 161\n",
            "Total training rewards: 97.0 for episode = 162\n",
            "Copying main network weights to the target network weights\n",
            "Total training rewards: 80.0 for episode = 163\n",
            "Total training rewards: 104.0 for episode = 164\n",
            "Copying main network weights to the target network weights\n",
            "Total training rewards: 211.0 for episode = 165\n",
            "Copying main network weights to the target network weights\n",
            "Total training rewards: 120.0 for episode = 166\n",
            "Copying main network weights to the target network weights\n",
            "Total training rewards: 141.0 for episode = 167\n",
            "Copying main network weights to the target network weights\n",
            "Total training rewards: 89.0 for episode = 168\n",
            "Total training rewards: 138.0 for episode = 169\n",
            "Copying main network weights to the target network weights\n",
            "Total training rewards: 83.0 for episode = 170\n",
            "Total training rewards: 55.0 for episode = 171\n",
            "Copying main network weights to the target network weights\n",
            "Total training rewards: 115.0 for episode = 172\n",
            "Copying main network weights to the target network weights\n",
            "Total training rewards: 152.0 for episode = 173\n",
            "Copying main network weights to the target network weights\n",
            "Total training rewards: 250.0 for episode = 174\n",
            "Copying main network weights to the target network weights\n",
            "Total training rewards: 70.0 for episode = 175\n",
            "Total training rewards: 155.0 for episode = 176\n",
            "Copying main network weights to the target network weights\n",
            "Total training rewards: 131.0 for episode = 177\n",
            "Copying main network weights to the target network weights\n",
            "Total training rewards: 171.0 for episode = 178\n",
            "Copying main network weights to the target network weights\n",
            "Total training rewards: 120.0 for episode = 179\n",
            "Copying main network weights to the target network weights\n",
            "Total training rewards: 126.0 for episode = 180\n",
            "Copying main network weights to the target network weights\n",
            "Total training rewards: 173.0 for episode = 181\n",
            "Copying main network weights to the target network weights\n",
            "Total training rewards: 199.0 for episode = 182\n",
            "Copying main network weights to the target network weights\n",
            "Total training rewards: 135.0 for episode = 183\n",
            "Copying main network weights to the target network weights\n",
            "Total training rewards: 76.0 for episode = 184\n",
            "Total training rewards: 86.0 for episode = 185\n",
            "Copying main network weights to the target network weights\n",
            "Total training rewards: 84.0 for episode = 186\n",
            "Total training rewards: 145.0 for episode = 187\n",
            "Copying main network weights to the target network weights\n",
            "Total training rewards: 121.0 for episode = 188\n",
            "Copying main network weights to the target network weights\n",
            "Total training rewards: 167.0 for episode = 189\n",
            "Copying main network weights to the target network weights\n",
            "Total training rewards: 73.0 for episode = 190\n",
            "Total training rewards: 26.0 for episode = 191\n",
            "Total training rewards: 95.0 for episode = 192\n",
            "Copying main network weights to the target network weights\n",
            "Total training rewards: 208.0 for episode = 193\n",
            "Copying main network weights to the target network weights\n",
            "Total training rewards: 301.0 for episode = 194\n",
            "Copying main network weights to the target network weights\n",
            "Total training rewards: 107.0 for episode = 195\n",
            "Copying main network weights to the target network weights\n",
            "Total training rewards: 99.0 for episode = 196\n",
            "Total training rewards: 199.0 for episode = 197\n",
            "Copying main network weights to the target network weights\n",
            "Total training rewards: 105.0 for episode = 198\n",
            "Copying main network weights to the target network weights\n",
            "Total training rewards: 208.0 for episode = 199\n",
            "Copying main network weights to the target network weights\n",
            "Total training rewards: 124.0 for episode = 200\n",
            "Copying main network weights to the target network weights\n",
            "Total training rewards: 78.0 for episode = 201\n",
            "Total training rewards: 101.0 for episode = 202\n",
            "Copying main network weights to the target network weights\n",
            "Total training rewards: 61.0 for episode = 203\n",
            "Total training rewards: 374.0 for episode = 204\n",
            "Copying main network weights to the target network weights\n",
            "Total training rewards: 256.0 for episode = 205\n",
            "Copying main network weights to the target network weights\n",
            "Total training rewards: 111.0 for episode = 206\n",
            "Copying main network weights to the target network weights\n",
            "Total training rewards: 190.0 for episode = 207\n",
            "Copying main network weights to the target network weights\n",
            "Total training rewards: 191.0 for episode = 208\n",
            "Copying main network weights to the target network weights\n",
            "Total training rewards: 210.0 for episode = 209\n",
            "Copying main network weights to the target network weights\n",
            "Total training rewards: 106.0 for episode = 210\n",
            "Copying main network weights to the target network weights\n",
            "Total training rewards: 245.0 for episode = 211\n",
            "Copying main network weights to the target network weights\n",
            "Total training rewards: 211.0 for episode = 212\n",
            "Copying main network weights to the target network weights\n",
            "Total training rewards: 116.0 for episode = 213\n",
            "Copying main network weights to the target network weights\n",
            "Total training rewards: 319.0 for episode = 214\n",
            "Copying main network weights to the target network weights\n",
            "Total training rewards: 241.0 for episode = 215\n",
            "Copying main network weights to the target network weights\n",
            "Total training rewards: 117.0 for episode = 216\n",
            "Copying main network weights to the target network weights\n",
            "Total training rewards: 303.0 for episode = 217\n",
            "Copying main network weights to the target network weights\n",
            "Total training rewards: 124.0 for episode = 218\n",
            "Copying main network weights to the target network weights\n",
            "Total training rewards: 194.0 for episode = 219\n",
            "Copying main network weights to the target network weights\n",
            "Total training rewards: 99.0 for episode = 220\n",
            "Total training rewards: 168.0 for episode = 221\n",
            "Copying main network weights to the target network weights\n",
            "Total training rewards: 194.0 for episode = 222\n",
            "Copying main network weights to the target network weights\n",
            "Total training rewards: 110.0 for episode = 223\n",
            "Copying main network weights to the target network weights\n",
            "Total training rewards: 15.0 for episode = 224\n",
            "Total training rewards: 28.0 for episode = 225\n",
            "Total training rewards: 74.0 for episode = 226\n",
            "Copying main network weights to the target network weights\n",
            "Total training rewards: 231.0 for episode = 227\n",
            "Copying main network weights to the target network weights\n",
            "Total training rewards: 277.0 for episode = 228\n",
            "Copying main network weights to the target network weights\n",
            "Total training rewards: 138.0 for episode = 229\n",
            "Copying main network weights to the target network weights\n",
            "Total training rewards: 259.0 for episode = 230\n",
            "Copying main network weights to the target network weights\n",
            "Total training rewards: 35.0 for episode = 231\n",
            "Total training rewards: 22.0 for episode = 232\n",
            "Total training rewards: 254.0 for episode = 233\n",
            "Copying main network weights to the target network weights\n",
            "Total training rewards: 124.0 for episode = 234\n",
            "Copying main network weights to the target network weights\n",
            "Total training rewards: 157.0 for episode = 235\n",
            "Copying main network weights to the target network weights\n",
            "Total training rewards: 194.0 for episode = 236\n",
            "Copying main network weights to the target network weights\n",
            "Total training rewards: 267.0 for episode = 237\n",
            "Copying main network weights to the target network weights\n",
            "Total training rewards: 30.0 for episode = 238\n",
            "Total training rewards: 39.0 for episode = 239\n",
            "Total training rewards: 273.0 for episode = 240\n",
            "Copying main network weights to the target network weights\n",
            "Total training rewards: 138.0 for episode = 241\n",
            "Copying main network weights to the target network weights\n",
            "Total training rewards: 219.0 for episode = 242\n",
            "Copying main network weights to the target network weights\n",
            "Total training rewards: 155.0 for episode = 243\n",
            "Copying main network weights to the target network weights\n",
            "Total training rewards: 311.0 for episode = 244\n",
            "Copying main network weights to the target network weights\n",
            "Total training rewards: 224.0 for episode = 245\n",
            "Copying main network weights to the target network weights\n",
            "Total training rewards: 235.0 for episode = 246\n",
            "Copying main network weights to the target network weights\n",
            "Total training rewards: 196.0 for episode = 247\n",
            "Copying main network weights to the target network weights\n",
            "Total training rewards: 170.0 for episode = 248\n",
            "Copying main network weights to the target network weights\n",
            "Total training rewards: 12.0 for episode = 249\n",
            "Total training rewards: 26.0 for episode = 250\n",
            "Total training rewards: 244.0 for episode = 251\n",
            "Copying main network weights to the target network weights\n",
            "Total training rewards: 208.0 for episode = 252\n",
            "Copying main network weights to the target network weights\n",
            "Total training rewards: 220.0 for episode = 253\n",
            "Copying main network weights to the target network weights\n",
            "Total training rewards: 88.0 for episode = 254\n",
            "Total training rewards: 11.0 for episode = 255\n",
            "Total training rewards: 197.0 for episode = 256\n",
            "Copying main network weights to the target network weights\n",
            "Total training rewards: 184.0 for episode = 257\n",
            "Copying main network weights to the target network weights\n",
            "Total training rewards: 169.0 for episode = 258\n",
            "Copying main network weights to the target network weights\n",
            "Total training rewards: 265.0 for episode = 259\n",
            "Copying main network weights to the target network weights\n",
            "Total training rewards: 358.0 for episode = 260\n",
            "Copying main network weights to the target network weights\n",
            "Total training rewards: 222.0 for episode = 261\n",
            "Copying main network weights to the target network weights\n",
            "Total training rewards: 275.0 for episode = 262\n",
            "Copying main network weights to the target network weights\n",
            "Total training rewards: 45.0 for episode = 263\n",
            "Total training rewards: 131.0 for episode = 264\n",
            "Copying main network weights to the target network weights\n",
            "Total training rewards: 28.0 for episode = 265\n",
            "Total training rewards: 176.0 for episode = 266\n",
            "Copying main network weights to the target network weights\n",
            "Total training rewards: 242.0 for episode = 267\n",
            "Copying main network weights to the target network weights\n",
            "Total training rewards: 404.0 for episode = 268\n",
            "Copying main network weights to the target network weights\n",
            "Total training rewards: 192.0 for episode = 269\n",
            "Copying main network weights to the target network weights\n",
            "Total training rewards: 201.0 for episode = 270\n",
            "Copying main network weights to the target network weights\n",
            "Total training rewards: 186.0 for episode = 271\n",
            "Copying main network weights to the target network weights\n",
            "Total training rewards: 149.0 for episode = 272\n",
            "Copying main network weights to the target network weights\n",
            "Total training rewards: 166.0 for episode = 273\n",
            "Copying main network weights to the target network weights\n",
            "Total training rewards: 178.0 for episode = 274\n",
            "Copying main network weights to the target network weights\n",
            "Total training rewards: 186.0 for episode = 275\n",
            "Copying main network weights to the target network weights\n",
            "Total training rewards: 238.0 for episode = 276\n",
            "Copying main network weights to the target network weights\n",
            "Total training rewards: 8.0 for episode = 277\n",
            "Total training rewards: 10.0 for episode = 278\n",
            "Total training rewards: 140.0 for episode = 279\n",
            "Copying main network weights to the target network weights\n",
            "Total training rewards: 252.0 for episode = 280\n",
            "Copying main network weights to the target network weights\n",
            "Total training rewards: 278.0 for episode = 281\n",
            "Copying main network weights to the target network weights\n",
            "Total training rewards: 287.0 for episode = 282\n",
            "Copying main network weights to the target network weights\n",
            "Total training rewards: 147.0 for episode = 283\n",
            "Copying main network weights to the target network weights\n",
            "Total training rewards: 128.0 for episode = 284\n",
            "Copying main network weights to the target network weights\n",
            "Total training rewards: 11.0 for episode = 285\n",
            "Total training rewards: 9.0 for episode = 286\n",
            "Total training rewards: 171.0 for episode = 287\n",
            "Copying main network weights to the target network weights\n",
            "Total training rewards: 194.0 for episode = 288\n",
            "Copying main network weights to the target network weights\n",
            "Total training rewards: 269.0 for episode = 289\n",
            "Copying main network weights to the target network weights\n",
            "Total training rewards: 258.0 for episode = 290\n",
            "Copying main network weights to the target network weights\n",
            "Total training rewards: 225.0 for episode = 291\n",
            "Copying main network weights to the target network weights\n",
            "Total training rewards: 148.0 for episode = 292\n",
            "Copying main network weights to the target network weights\n",
            "Total training rewards: 222.0 for episode = 293\n",
            "Copying main network weights to the target network weights\n",
            "Total training rewards: 102.0 for episode = 294\n",
            "Copying main network weights to the target network weights\n",
            "Total training rewards: 122.0 for episode = 295\n",
            "Copying main network weights to the target network weights\n",
            "Total training rewards: 120.0 for episode = 296\n",
            "Copying main network weights to the target network weights\n",
            "Total training rewards: 13.0 for episode = 297\n",
            "Total training rewards: 97.0 for episode = 298\n",
            "Copying main network weights to the target network weights\n",
            "Total training rewards: 202.0 for episode = 299\n",
            "Copying main network weights to the target network weights\n"
          ]
        }
      ],
      "source": [
        "#DQN hyperparameters\n",
        "train_episodes = 300\n",
        "epsilon = 1\n",
        "max_epsilon = 1\n",
        "min_epsilon = 0.01\n",
        "decay = 0.01\n",
        "\n",
        "#Main model\n",
        "model = DQN(env.observation_space.shape, env.action_space.n)\n",
        "\n",
        "#Target model (updated every 100 steps)\n",
        "target_model = DQN(env.observation_space.shape, env.action_space.n)\n",
        "target_model.set_weights(model.get_weights())\n",
        "\n",
        "#Set up replay memory buffer\n",
        "replay_memory = deque(maxlen=50_000)\n",
        "\n",
        "#Counters for main loop\n",
        "target_update_counter = 0\n",
        "steps_to_update_target_model = 0\n",
        "rewards_plot = []\n",
        "\n",
        "#Loop to initiate the number of cartpole simulation episodes\n",
        "for episode in range(train_episodes):\n",
        "    #start with reset environment\n",
        "    total_training_rewards = 0\n",
        "    observation = env.reset()\n",
        "    done = False\n",
        "\n",
        "    #For each episode\n",
        "    while not done:\n",
        "        steps_to_update_target_model += 1\n",
        "        random_number = np.random.rand()\n",
        "        #conduct epsilon greedy choice\n",
        "        if random_number <= epsilon:\n",
        "            action = env.action_space.sample()\n",
        "        #conduct max action choice\n",
        "        else:\n",
        "            #find max action\n",
        "            encoded = observation\n",
        "            encoded_reshaped = encoded.reshape([1, encoded.shape[0]])\n",
        "            predicted = model.predict(encoded_reshaped, verbose=None).flatten()\n",
        "            action = np.argmax(predicted)\n",
        "        #commit max action and get new state and reward\n",
        "        new_observation, reward, done, info = env.step(action)\n",
        "        #add state, action, reward, new state tuple to memory buffer\n",
        "        replay_memory.append([observation, action, reward, new_observation, done])\n",
        "\n",
        "        #Train main model every 4 steps only if replay buffer is large enough\n",
        "        if steps_to_update_target_model % 4 == 0 or done:\n",
        "          if len(replay_memory) >= 1000:\n",
        "            train(env, replay_memory, model, target_model, done)\n",
        "        observation = new_observation\n",
        "        total_training_rewards += reward\n",
        "\n",
        "        #If the episode has ended\n",
        "        if done:\n",
        "            #print and save total reward from episode\n",
        "            print('Total training rewards: {} for episode = {}'.format(total_training_rewards, episode))\n",
        "            rewards_plot.append(total_training_rewards)\n",
        "\n",
        "            #Update the target model by copying weights if at least 100 steps were taken\n",
        "            if steps_to_update_target_model >= 100:\n",
        "                print('Copying main network weights to the target network weights')\n",
        "                target_model.set_weights(model.get_weights())\n",
        "                steps_to_update_target_model = 0\n",
        "            break\n",
        "    #epsilon decay after each episode\n",
        "    epsilon = min_epsilon + (max_epsilon - min_epsilon) * np.exp(-decay * episode)"
      ]
    },
    {
      "cell_type": "markdown",
      "source": [
        "**Plot of reward by training iteration**"
      ],
      "metadata": {
        "id": "tSf5D7umth9h"
      }
    },
    {
      "cell_type": "code",
      "source": [
        "#Plot the total reward by iteration\n",
        "plt.plot(rewards_plot)\n",
        "plt.title(\"Total reward by Episode\")\n",
        "plt.xlabel(\"Episode\")\n",
        "plt.ylabel(\"Total reward\")\n",
        "plt.show()"
      ],
      "metadata": {
        "colab": {
          "base_uri": "https://localhost:8080/",
          "height": 472
        },
        "id": "ZaXHctPRZgwy",
        "outputId": "f5574911-4aad-4418-9257-900215495d43"
      },
      "execution_count": null,
      "outputs": [
        {
          "output_type": "display_data",
          "data": {
            "text/plain": [
              "<Figure size 640x480 with 1 Axes>"
            ],
            "image/png": "[encoded data removed]"
          },
          "metadata": {}
        }
      ]
    },
    {
      "cell_type": "markdown",
      "metadata": {
        "id": "o5W48jMZeq01"
      },
      "source": [
        "##Render Trained Model\n",
        "After training the DQN main network, the following code uses the network to make predictions for a single iteration of cartpole. The iteration is then recorded as a video, which is shown in the final code cell of this notebook."
      ]
    },
    {
      "cell_type": "code",
      "execution_count": null,
      "metadata": {
        "colab": {
          "base_uri": "https://localhost:8080/"
        },
        "id": "r4RoQtGMdvsu",
        "outputId": "a256fb58-3418-495d-9b6b-b38f86c77049"
      },
      "outputs": [
        {
          "output_type": "stream",
          "name": "stdout",
          "text": [
            "Requirement already satisfied: pyvirtualdisplay in /usr/local/lib/python3.10/dist-packages (3.0)\n",
            "Reading package lists... Done\n",
            "Building dependency tree... Done\n",
            "Reading state information... Done\n",
            "xvfb is already the newest version (2:21.1.4-2ubuntu1.7~22.04.10).\n",
            "0 upgraded, 0 newly installed, 0 to remove and 45 not upgraded.\n",
            "Reading package lists... Done\n",
            "Building dependency tree... Done\n",
            "Reading state information... Done\n",
            "E: Unable to locate package python-opengl\n"
          ]
        }
      ],
      "source": [
        "#Install libraries for rendering\n",
        "!apt-get install -y xvfb python-opengl > /dev/null 2>&1\n",
        "!pip install pyvirtualdisplay\n",
        "!apt-get install  xvfb\n",
        "!apt-get install python-opengl ffmpeg"
      ]
    },
    {
      "cell_type": "code",
      "execution_count": null,
      "metadata": {
        "colab": {
          "base_uri": "https://localhost:8080/"
        },
        "id": "Oz3aiKCud0FB",
        "outputId": "730f3064-f091-4ef0-c46b-159a44bbb462"
      },
      "outputs": [
        {
          "output_type": "stream",
          "name": "stderr",
          "text": [
            "WARNING:py.warnings:/usr/local/lib/python3.10/dist-packages/skimage/util/dtype.py:27: DeprecationWarning: `np.bool8` is a deprecated alias for `np.bool_`.  (Deprecated NumPy 1.24)\n",
            "  np.bool8: (False, True),\n",
            "\n",
            "WARNING:py.warnings:/usr/local/lib/python3.10/dist-packages/moviepy/video/fx/painting.py:7: DeprecationWarning: Please use `sobel` from the `scipy.ndimage` namespace, the `scipy.ndimage.filters` namespace is deprecated.\n",
            "  from scipy.ndimage.filters import sobel\n",
            "\n"
          ]
        }
      ],
      "source": [
        "#Dependencies for rendering\n",
        "from gym.wrappers import RecordVideo\n",
        "import glob\n",
        "from pyvirtualdisplay import Display\n",
        "import os\n",
        "import moviepy.editor\n",
        "from IPython.display import clear_output"
      ]
    },
    {
      "cell_type": "markdown",
      "source": [
        "**Show image of starting cartpole environment**"
      ],
      "metadata": {
        "id": "1KA8PZWzuNYW"
      }
    },
    {
      "cell_type": "code",
      "execution_count": null,
      "metadata": {
        "colab": {
          "base_uri": "https://localhost:8080/",
          "height": 505
        },
        "id": "RkC2opGbd30m",
        "outputId": "7443f695-d715-4baa-d96b-2fdda0a1597a"
      },
      "outputs": [
        {
          "output_type": "stream",
          "name": "stderr",
          "text": [
            "WARNING:py.warnings:/usr/local/lib/python3.10/dist-packages/gym/core.py:43: DeprecationWarning: \u001b[33mWARN: The argument mode in render method is deprecated; use render_mode during environment initialization instead.\n",
            "See here for more information: https://www.gymlibrary.ml/content/api/\u001b[0m\n",
            "  deprecation(\n",
            "\n"
          ]
        },
        {
          "output_type": "execute_result",
          "data": {
            "text/plain": [
              "<matplotlib.image.AxesImage at 0x791140b2f730>"
            ]
          },
          "metadata": {},
          "execution_count": 13
        },
        {
          "output_type": "display_data",
          "data": {
            "text/plain": [
              "<Figure size 640x480 with 1 Axes>"
            ],
            "image/png": "[encoded data removed]"
          },
          "metadata": {}
        }
      ],
      "source": [
        "#Show a static image of the starting state of cartpole\n",
        "env.reset()\n",
        "plt.imshow(env.render('rgb_array'))"
      ]
    },
    {
      "cell_type": "code",
      "execution_count": null,
      "metadata": {
        "id": "UYSuzBDWd4bN"
      },
      "outputs": [],
      "source": [
        "display = Display(visible=False, size=(1400, 900))\n",
        "display.start()\n",
        "os.environ[\"DISPLAY\"] = f\":{display.display}\""
      ]
    },
    {
      "cell_type": "code",
      "execution_count": null,
      "metadata": {
        "colab": {
          "base_uri": "https://localhost:8080/"
        },
        "id": "lbvEd_p7d6kW",
        "outputId": "41775284-3a23-4030-bf2b-90e5bc734939"
      },
      "outputs": [
        {
          "output_type": "stream",
          "name": "stderr",
          "text": [
            "WARNING:py.warnings:/usr/local/lib/python3.10/dist-packages/gym/utils/passive_env_checker.py:241: DeprecationWarning: `np.bool8` is a deprecated alias for `np.bool_`.  (Deprecated NumPy 1.24)\n",
            "  if not isinstance(terminated, (bool, np.bool8)):\n",
            "\n",
            "WARNING:py.warnings:/usr/local/lib/python3.10/dist-packages/gym/core.py:43: DeprecationWarning: \u001b[33mWARN: The argument mode in render method is deprecated; use render_mode during environment initialization instead.\n",
            "See here for more information: https://www.gymlibrary.ml/content/api/\u001b[0m\n",
            "  deprecation(\n",
            "\n"
          ]
        },
        {
          "output_type": "stream",
          "name": "stdout",
          "text": [
            "Episode finished after 216 timesteps\n"
          ]
        }
      ],
      "source": [
        "#record video of one simulation of carpole using trained model\n",
        "env = RecordVideo(gym.make(\"CartPole-v1\"), \"./mp4\")\n",
        "observation = env.reset()\n",
        "clear_output()\n",
        "\n",
        "done = False\n",
        "i = 0\n",
        "while not done:\n",
        "    encoded = observation\n",
        "    encoded_reshaped = encoded.reshape([1, encoded.shape[0]])\n",
        "    predicted = model.predict(encoded_reshaped, verbose=None).flatten()\n",
        "    action = np.argmax(predicted)\n",
        "    new_observation, reward, done, info = env.step(action)\n",
        "    observation = new_observation\n",
        "    i = i + 1\n",
        "    if done:\n",
        "        print(\"Episode finished after {} timesteps\".format(i+1))\n",
        "        break"
      ]
    },
    {
      "cell_type": "markdown",
      "source": [
        "**Render final video of the trained agent simulating cartpole**"
      ],
      "metadata": {
        "id": "ISr21Bigubhu"
      }
    },
    {
      "cell_type": "code",
      "source": [
        "#display final video\n",
        "files = glob.glob(f'{env.video_folder}/{env.name_prefix}*.mp4')\n",
        "moviepy.editor.ipython_display('/content/mp4/rl-video-episode-0.mp4')"
      ],
      "metadata": {
        "colab": {
          "base_uri": "https://localhost:8080/",
          "height": 421
        },
        "id": "zNBOjiYkeF8Y",
        "outputId": "7ed4faf9-f047-4b3e-8257-1f3ac77cd93c"
      },
      "execution_count": null,
      "outputs": [
        {
          "output_type": "execute_result",
          "data": {
            "text/plain": [
              "<moviepy.video.io.html_tools.HTML2 object>"
            ],
            "text/html": [
              "<div align=middle><video src='data:video/mp4;base64,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' controls>Sorry, seems like your browser doesn't support HTML5 audio/video</video></div>"
            ]
          },
          "metadata": {},
          "execution_count": 16
        }
      ]
    }
  ],
  "metadata": {
    "colab": {
      "provenance": []
    },
    "kernelspec": {
      "display_name": "Python 3",
      "name": "python3"
    },
    "language_info": {
      "name": "python"
    }
  },
  "nbformat": 4,
  "nbformat_minor": 0
}